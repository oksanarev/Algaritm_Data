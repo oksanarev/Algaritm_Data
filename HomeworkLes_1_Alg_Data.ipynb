{
 "cells": [
  {
   "cell_type": "markdown",
   "id": "cab5e623",
   "metadata": {},
   "source": [
    "1. Проведите небольшое исследование алгоритма градиентного спуска на данных из урока. Оцените влияние значений скорости обучения (`eta`) и количества итераций на ошибку алгоритма. Как связаны эти два гиперпараметра между собой? Подберите скорость обучения и количество итераций до совпадения ответов алгоритма с результатами МНК. Как можно ускорить процесс вычисления весов?  "
   ]
  },
  {
   "cell_type": "code",
   "execution_count": 3,
   "id": "eaa02715",
   "metadata": {},
   "outputs": [],
   "source": [
    "import numpy as np\n",
    "import matplotlib.pyplot as plt"
   ]
  },
  {
   "cell_type": "code",
   "execution_count": 4,
   "id": "26379f36",
   "metadata": {},
   "outputs": [
    {
     "data": {
      "text/plain": [
       "(10, 2)"
      ]
     },
     "execution_count": 4,
     "metadata": {},
     "output_type": "execute_result"
    }
   ],
   "source": [
    "X = np.array([[1, 1, 1, 1, 1, 1, 1, 1, 1, 1],     # для умножения на intercept\n",
    "              [1, 1, 2, 1, 3, 0, 5, 10, 1, 2]]).T # стаж репетитора\n",
    "X.shape\n"
   ]
  },
  {
   "cell_type": "code",
   "execution_count": 6,
   "id": "b00ddc59",
   "metadata": {},
   "outputs": [],
   "source": [
    "# средний балл ЕГЭ (целевая переменная)\n",
    "y = [45, 55, 50, 59, 65, 35, 75, 80, 50, 60]"
   ]
  },
  {
   "cell_type": "code",
   "execution_count": 7,
   "id": "964537da",
   "metadata": {},
   "outputs": [],
   "source": [
    "def calc_mse(y, y_pred):\n",
    "    err = np.mean((y - y_pred)**2)\n",
    "    return err"
   ]
  },
  {
   "cell_type": "code",
   "execution_count": 14,
   "id": "5bdf6091",
   "metadata": {},
   "outputs": [
    {
     "name": "stdout",
     "output_type": "stream",
     "text": [
      "0 [2.102 3.9  ] 3173.15\n",
      "100 [31.88770806  6.74418155] 175.19445858001853\n",
      "200 [41.83683774  4.90699865] 61.9177717428135\n",
      "300 [45.33508261  4.26102097] 47.913169919666785\n",
      "400 [46.56511152  4.03388672] 46.181755648107604\n",
      "500 [46.99760587  3.95402334] 45.96769776787538\n",
      "600 [47.14967657  3.92594232] 45.941233404700036\n",
      "700 [47.20314662  3.91606866] 45.93796156758051\n",
      "800 [47.2219474   3.91259695] 45.93755706443538\n",
      "900 [47.228558    3.91137626] 45.937507054979434\n"
     ]
    }
   ],
   "source": [
    "n = X.shape[0]\n",
    "eta = 1e-2\n",
    "iterations = 1000\n",
    "w = np.array([1, 0.5])\n",
    "\n",
    "for i in range(iterations):\n",
    "    y_pred = np.dot(X, w)\n",
    "    err = calc_mse(y, y_pred)\n",
    "    for j in range(w.shape[0]):\n",
    "        w[j] -= eta * (1/n * 2 * np.sum(X[:,j] * (y_pred - y)))\n",
    "    if i % 100 == 0:\n",
    "        print(i, w, err) # МНК: array([47.23214286,  3.91071429]) 45.937499999999986\n"
   ]
  },
  {
   "cell_type": "markdown",
   "id": "25041148",
   "metadata": {},
   "source": [
    "Вывод:при увеличении скорости обучения, можно уменьшить количество итераций для получерия оптимального значения ошибки. "
   ]
  }
 ],
 "metadata": {
  "kernelspec": {
   "display_name": "Python 3",
   "language": "python",
   "name": "python3"
  },
  "language_info": {
   "codemirror_mode": {
    "name": "ipython",
    "version": 3
   },
   "file_extension": ".py",
   "mimetype": "text/x-python",
   "name": "python",
   "nbconvert_exporter": "python",
   "pygments_lexer": "ipython3",
   "version": "3.8.8"
  }
 },
 "nbformat": 4,
 "nbformat_minor": 5
}
