{
  "nbformat": 4,
  "nbformat_minor": 0,
  "metadata": {
    "colab": {
      "provenance": [],
      "authorship_tag": "ABX9TyMV7B99pF6HiS5cqAiBACyk",
      "include_colab_link": true
    },
    "kernelspec": {
      "name": "python3",
      "display_name": "Python 3"
    },
    "language_info": {
      "name": "python"
    }
  },
  "cells": [
    {
      "cell_type": "markdown",
      "metadata": {
        "id": "view-in-github",
        "colab_type": "text"
      },
      "source": [
        "<a href=\"https://colab.research.google.com/github/oksanarev/Algaritm_Data/blob/Intensiv/%D0%94%D0%97_1_%D0%97%D0%BD%D0%B0%D0%BA%D0%BE%D0%BC%D1%81%D1%82%D0%B2%D0%BE_%D1%81_%D0%B1%D0%B8%D0%B1%D0%BB%D0%B8%D0%BE%D1%82%D0%B5%D0%BA%D0%B0%D0%BC%D0%B8.ipynb\" target=\"_parent\"><img src=\"https://colab.research.google.com/assets/colab-badge.svg\" alt=\"Open In Colab\"/></a>"
      ]
    },
    {
      "cell_type": "markdown",
      "source": [
        "# 1) Pandas\n",
        "Для некоторых заданий, возможно, придется обратиться к документации: https://pandas.pydata.org/docs/\n",
        "\n",
        "* Скачайте любой табличный датасет (или создайте тестовый пример самостоятельно), например, с https://www.kaggle.com/datasets\n",
        "\n",
        "*  Загрузите данные и проанализируйте их (используя функции .info и .describe)\n",
        "*  Выведите отдельно интересующую вас колонку и столбец"
      ],
      "metadata": {
        "id": "gl_vmW4nePRT"
      }
    },
    {
      "cell_type": "code",
      "execution_count": 3,
      "metadata": {
        "id": "HCbnMWoleOJD"
      },
      "outputs": [],
      "source": [
        "import pandas as pd"
      ]
    },
    {
      "cell_type": "code",
      "source": [
        "data = '/content/sample_data/world_risk_index[1].csv'"
      ],
      "metadata": {
        "id": "aWdi1xphjfgg"
      },
      "execution_count": 4,
      "outputs": []
    },
    {
      "cell_type": "code",
      "source": [
        "df = pd.read_csv(data)\n",
        "df.head()"
      ],
      "metadata": {
        "colab": {
          "base_uri": "https://localhost:8080/",
          "height": 285
        },
        "id": "iYGSxVdJlXwa",
        "outputId": "36cab2b0-4ca5-40a0-939d-5f0873d258b0"
      },
      "execution_count": 6,
      "outputs": [
        {
          "output_type": "execute_result",
          "data": {
            "text/plain": [
              "        Region    WRI  Exposure  Vulnerability  Susceptibility  \\\n",
              "0      Vanuatu  32.00     56.33          56.81           37.14   \n",
              "1        Tonga  29.08     56.04          51.90           28.94   \n",
              "2  Philippinen  24.32     45.09          53.93           34.99   \n",
              "3    Salomonen  23.51     36.40          64.60           44.11   \n",
              "4    Guatemala  20.88     38.42          54.35           35.36   \n",
              "\n",
              "   Lack of Coping Capabilities   Lack of Adaptive Capacities  Year  \\\n",
              "0                        79.34                         53.96  2011   \n",
              "1                        81.80                         44.97  2011   \n",
              "2                        82.78                         44.01  2011   \n",
              "3                        85.95                         63.74  2011   \n",
              "4                        77.83                         49.87  2011   \n",
              "\n",
              "  Exposure Category WRI Category Vulnerability Category  \\\n",
              "0         Very High    Very High                   High   \n",
              "1         Very High    Very High                 Medium   \n",
              "2         Very High    Very High                   High   \n",
              "3         Very High    Very High              Very High   \n",
              "4         Very High    Very High                   High   \n",
              "\n",
              "  Susceptibility Category  \n",
              "0                    High  \n",
              "1                  Medium  \n",
              "2                    High  \n",
              "3                    High  \n",
              "4                    High  "
            ],
            "text/html": [
              "\n",
              "  <div id=\"df-ee9d2045-5c73-409f-85e7-e77d59b41d67\">\n",
              "    <div class=\"colab-df-container\">\n",
              "      <div>\n",
              "<style scoped>\n",
              "    .dataframe tbody tr th:only-of-type {\n",
              "        vertical-align: middle;\n",
              "    }\n",
              "\n",
              "    .dataframe tbody tr th {\n",
              "        vertical-align: top;\n",
              "    }\n",
              "\n",
              "    .dataframe thead th {\n",
              "        text-align: right;\n",
              "    }\n",
              "</style>\n",
              "<table border=\"1\" class=\"dataframe\">\n",
              "  <thead>\n",
              "    <tr style=\"text-align: right;\">\n",
              "      <th></th>\n",
              "      <th>Region</th>\n",
              "      <th>WRI</th>\n",
              "      <th>Exposure</th>\n",
              "      <th>Vulnerability</th>\n",
              "      <th>Susceptibility</th>\n",
              "      <th>Lack of Coping Capabilities</th>\n",
              "      <th>Lack of Adaptive Capacities</th>\n",
              "      <th>Year</th>\n",
              "      <th>Exposure Category</th>\n",
              "      <th>WRI Category</th>\n",
              "      <th>Vulnerability Category</th>\n",
              "      <th>Susceptibility Category</th>\n",
              "    </tr>\n",
              "  </thead>\n",
              "  <tbody>\n",
              "    <tr>\n",
              "      <th>0</th>\n",
              "      <td>Vanuatu</td>\n",
              "      <td>32.00</td>\n",
              "      <td>56.33</td>\n",
              "      <td>56.81</td>\n",
              "      <td>37.14</td>\n",
              "      <td>79.34</td>\n",
              "      <td>53.96</td>\n",
              "      <td>2011</td>\n",
              "      <td>Very High</td>\n",
              "      <td>Very High</td>\n",
              "      <td>High</td>\n",
              "      <td>High</td>\n",
              "    </tr>\n",
              "    <tr>\n",
              "      <th>1</th>\n",
              "      <td>Tonga</td>\n",
              "      <td>29.08</td>\n",
              "      <td>56.04</td>\n",
              "      <td>51.90</td>\n",
              "      <td>28.94</td>\n",
              "      <td>81.80</td>\n",
              "      <td>44.97</td>\n",
              "      <td>2011</td>\n",
              "      <td>Very High</td>\n",
              "      <td>Very High</td>\n",
              "      <td>Medium</td>\n",
              "      <td>Medium</td>\n",
              "    </tr>\n",
              "    <tr>\n",
              "      <th>2</th>\n",
              "      <td>Philippinen</td>\n",
              "      <td>24.32</td>\n",
              "      <td>45.09</td>\n",
              "      <td>53.93</td>\n",
              "      <td>34.99</td>\n",
              "      <td>82.78</td>\n",
              "      <td>44.01</td>\n",
              "      <td>2011</td>\n",
              "      <td>Very High</td>\n",
              "      <td>Very High</td>\n",
              "      <td>High</td>\n",
              "      <td>High</td>\n",
              "    </tr>\n",
              "    <tr>\n",
              "      <th>3</th>\n",
              "      <td>Salomonen</td>\n",
              "      <td>23.51</td>\n",
              "      <td>36.40</td>\n",
              "      <td>64.60</td>\n",
              "      <td>44.11</td>\n",
              "      <td>85.95</td>\n",
              "      <td>63.74</td>\n",
              "      <td>2011</td>\n",
              "      <td>Very High</td>\n",
              "      <td>Very High</td>\n",
              "      <td>Very High</td>\n",
              "      <td>High</td>\n",
              "    </tr>\n",
              "    <tr>\n",
              "      <th>4</th>\n",
              "      <td>Guatemala</td>\n",
              "      <td>20.88</td>\n",
              "      <td>38.42</td>\n",
              "      <td>54.35</td>\n",
              "      <td>35.36</td>\n",
              "      <td>77.83</td>\n",
              "      <td>49.87</td>\n",
              "      <td>2011</td>\n",
              "      <td>Very High</td>\n",
              "      <td>Very High</td>\n",
              "      <td>High</td>\n",
              "      <td>High</td>\n",
              "    </tr>\n",
              "  </tbody>\n",
              "</table>\n",
              "</div>\n",
              "      <button class=\"colab-df-convert\" onclick=\"convertToInteractive('df-ee9d2045-5c73-409f-85e7-e77d59b41d67')\"\n",
              "              title=\"Convert this dataframe to an interactive table.\"\n",
              "              style=\"display:none;\">\n",
              "        \n",
              "  <svg xmlns=\"http://www.w3.org/2000/svg\" height=\"24px\"viewBox=\"0 0 24 24\"\n",
              "       width=\"24px\">\n",
              "    <path d=\"M0 0h24v24H0V0z\" fill=\"none\"/>\n",
              "    <path d=\"M18.56 5.44l.94 2.06.94-2.06 2.06-.94-2.06-.94-.94-2.06-.94 2.06-2.06.94zm-11 1L8.5 8.5l.94-2.06 2.06-.94-2.06-.94L8.5 2.5l-.94 2.06-2.06.94zm10 10l.94 2.06.94-2.06 2.06-.94-2.06-.94-.94-2.06-.94 2.06-2.06.94z\"/><path d=\"M17.41 7.96l-1.37-1.37c-.4-.4-.92-.59-1.43-.59-.52 0-1.04.2-1.43.59L10.3 9.45l-7.72 7.72c-.78.78-.78 2.05 0 2.83L4 21.41c.39.39.9.59 1.41.59.51 0 1.02-.2 1.41-.59l7.78-7.78 2.81-2.81c.8-.78.8-2.07 0-2.86zM5.41 20L4 18.59l7.72-7.72 1.47 1.35L5.41 20z\"/>\n",
              "  </svg>\n",
              "      </button>\n",
              "      \n",
              "  <style>\n",
              "    .colab-df-container {\n",
              "      display:flex;\n",
              "      flex-wrap:wrap;\n",
              "      gap: 12px;\n",
              "    }\n",
              "\n",
              "    .colab-df-convert {\n",
              "      background-color: #E8F0FE;\n",
              "      border: none;\n",
              "      border-radius: 50%;\n",
              "      cursor: pointer;\n",
              "      display: none;\n",
              "      fill: #1967D2;\n",
              "      height: 32px;\n",
              "      padding: 0 0 0 0;\n",
              "      width: 32px;\n",
              "    }\n",
              "\n",
              "    .colab-df-convert:hover {\n",
              "      background-color: #E2EBFA;\n",
              "      box-shadow: 0px 1px 2px rgba(60, 64, 67, 0.3), 0px 1px 3px 1px rgba(60, 64, 67, 0.15);\n",
              "      fill: #174EA6;\n",
              "    }\n",
              "\n",
              "    [theme=dark] .colab-df-convert {\n",
              "      background-color: #3B4455;\n",
              "      fill: #D2E3FC;\n",
              "    }\n",
              "\n",
              "    [theme=dark] .colab-df-convert:hover {\n",
              "      background-color: #434B5C;\n",
              "      box-shadow: 0px 1px 3px 1px rgba(0, 0, 0, 0.15);\n",
              "      filter: drop-shadow(0px 1px 2px rgba(0, 0, 0, 0.3));\n",
              "      fill: #FFFFFF;\n",
              "    }\n",
              "  </style>\n",
              "\n",
              "      <script>\n",
              "        const buttonEl =\n",
              "          document.querySelector('#df-ee9d2045-5c73-409f-85e7-e77d59b41d67 button.colab-df-convert');\n",
              "        buttonEl.style.display =\n",
              "          google.colab.kernel.accessAllowed ? 'block' : 'none';\n",
              "\n",
              "        async function convertToInteractive(key) {\n",
              "          const element = document.querySelector('#df-ee9d2045-5c73-409f-85e7-e77d59b41d67');\n",
              "          const dataTable =\n",
              "            await google.colab.kernel.invokeFunction('convertToInteractive',\n",
              "                                                     [key], {});\n",
              "          if (!dataTable) return;\n",
              "\n",
              "          const docLinkHtml = 'Like what you see? Visit the ' +\n",
              "            '<a target=\"_blank\" href=https://colab.research.google.com/notebooks/data_table.ipynb>data table notebook</a>'\n",
              "            + ' to learn more about interactive tables.';\n",
              "          element.innerHTML = '';\n",
              "          dataTable['output_type'] = 'display_data';\n",
              "          await google.colab.output.renderOutput(dataTable, element);\n",
              "          const docLink = document.createElement('div');\n",
              "          docLink.innerHTML = docLinkHtml;\n",
              "          element.appendChild(docLink);\n",
              "        }\n",
              "      </script>\n",
              "    </div>\n",
              "  </div>\n",
              "  "
            ]
          },
          "metadata": {},
          "execution_count": 6
        }
      ]
    },
    {
      "cell_type": "code",
      "source": [
        "df.info()"
      ],
      "metadata": {
        "colab": {
          "base_uri": "https://localhost:8080/"
        },
        "id": "YSrbNgC2nbGh",
        "outputId": "d80ba7a9-57a3-415b-a306-5241dc6bda35"
      },
      "execution_count": 8,
      "outputs": [
        {
          "output_type": "stream",
          "name": "stdout",
          "text": [
            "<class 'pandas.core.frame.DataFrame'>\n",
            "RangeIndex: 1917 entries, 0 to 1916\n",
            "Data columns (total 12 columns):\n",
            " #   Column                        Non-Null Count  Dtype  \n",
            "---  ------                        --------------  -----  \n",
            " 0   Region                        1917 non-null   object \n",
            " 1   WRI                           1917 non-null   float64\n",
            " 2   Exposure                      1917 non-null   float64\n",
            " 3   Vulnerability                 1917 non-null   float64\n",
            " 4   Susceptibility                1917 non-null   float64\n",
            " 5   Lack of Coping Capabilities   1917 non-null   float64\n",
            " 6    Lack of Adaptive Capacities  1916 non-null   float64\n",
            " 7   Year                          1917 non-null   int64  \n",
            " 8   Exposure Category             1917 non-null   object \n",
            " 9   WRI Category                  1916 non-null   object \n",
            " 10  Vulnerability Category        1913 non-null   object \n",
            " 11  Susceptibility Category       1917 non-null   object \n",
            "dtypes: float64(6), int64(1), object(5)\n",
            "memory usage: 179.8+ KB\n"
          ]
        }
      ]
    },
    {
      "cell_type": "code",
      "source": [
        "df.describe()"
      ],
      "metadata": {
        "colab": {
          "base_uri": "https://localhost:8080/",
          "height": 300
        },
        "id": "hDGM7vx3nojq",
        "outputId": "a77b83ec-5e9d-4600-9a99-eaafd614c073"
      },
      "execution_count": 9,
      "outputs": [
        {
          "output_type": "execute_result",
          "data": {
            "text/plain": [
              "               WRI     Exposure  Vulnerability  Susceptibility  \\\n",
              "count  1917.000000  1917.000000    1917.000000     1917.000000   \n",
              "mean      7.551763    15.388336      48.075759       30.739431   \n",
              "std       5.553257    10.240135      13.835666       15.667030   \n",
              "min       0.020000     0.050000      14.310000        8.260000   \n",
              "25%       3.740000    10.160000      37.040000       17.790000   \n",
              "50%       6.520000    12.760000      47.100000       25.400000   \n",
              "75%       9.400000    16.450000      60.060000       42.640000   \n",
              "max      56.710000    99.880000      76.470000       70.830000   \n",
              "\n",
              "       Lack of Coping Capabilities   Lack of Adaptive Capacities         Year  \n",
              "count                  1917.000000                   1916.000000  1917.000000  \n",
              "mean                     70.438289                     43.090511  2016.049557  \n",
              "std                      15.038854                     13.551156     3.182045  \n",
              "min                      31.590000                     11.160000  2011.000000  \n",
              "25%                      59.330000                     33.192500  2013.000000  \n",
              "50%                      74.230000                     43.080000  2016.000000  \n",
              "75%                      83.000000                     53.065000  2019.000000  \n",
              "max                      94.360000                     76.110000  2021.000000  "
            ],
            "text/html": [
              "\n",
              "  <div id=\"df-a77ced2b-2a10-4213-bc93-c8609b5b20bb\">\n",
              "    <div class=\"colab-df-container\">\n",
              "      <div>\n",
              "<style scoped>\n",
              "    .dataframe tbody tr th:only-of-type {\n",
              "        vertical-align: middle;\n",
              "    }\n",
              "\n",
              "    .dataframe tbody tr th {\n",
              "        vertical-align: top;\n",
              "    }\n",
              "\n",
              "    .dataframe thead th {\n",
              "        text-align: right;\n",
              "    }\n",
              "</style>\n",
              "<table border=\"1\" class=\"dataframe\">\n",
              "  <thead>\n",
              "    <tr style=\"text-align: right;\">\n",
              "      <th></th>\n",
              "      <th>WRI</th>\n",
              "      <th>Exposure</th>\n",
              "      <th>Vulnerability</th>\n",
              "      <th>Susceptibility</th>\n",
              "      <th>Lack of Coping Capabilities</th>\n",
              "      <th>Lack of Adaptive Capacities</th>\n",
              "      <th>Year</th>\n",
              "    </tr>\n",
              "  </thead>\n",
              "  <tbody>\n",
              "    <tr>\n",
              "      <th>count</th>\n",
              "      <td>1917.000000</td>\n",
              "      <td>1917.000000</td>\n",
              "      <td>1917.000000</td>\n",
              "      <td>1917.000000</td>\n",
              "      <td>1917.000000</td>\n",
              "      <td>1916.000000</td>\n",
              "      <td>1917.000000</td>\n",
              "    </tr>\n",
              "    <tr>\n",
              "      <th>mean</th>\n",
              "      <td>7.551763</td>\n",
              "      <td>15.388336</td>\n",
              "      <td>48.075759</td>\n",
              "      <td>30.739431</td>\n",
              "      <td>70.438289</td>\n",
              "      <td>43.090511</td>\n",
              "      <td>2016.049557</td>\n",
              "    </tr>\n",
              "    <tr>\n",
              "      <th>std</th>\n",
              "      <td>5.553257</td>\n",
              "      <td>10.240135</td>\n",
              "      <td>13.835666</td>\n",
              "      <td>15.667030</td>\n",
              "      <td>15.038854</td>\n",
              "      <td>13.551156</td>\n",
              "      <td>3.182045</td>\n",
              "    </tr>\n",
              "    <tr>\n",
              "      <th>min</th>\n",
              "      <td>0.020000</td>\n",
              "      <td>0.050000</td>\n",
              "      <td>14.310000</td>\n",
              "      <td>8.260000</td>\n",
              "      <td>31.590000</td>\n",
              "      <td>11.160000</td>\n",
              "      <td>2011.000000</td>\n",
              "    </tr>\n",
              "    <tr>\n",
              "      <th>25%</th>\n",
              "      <td>3.740000</td>\n",
              "      <td>10.160000</td>\n",
              "      <td>37.040000</td>\n",
              "      <td>17.790000</td>\n",
              "      <td>59.330000</td>\n",
              "      <td>33.192500</td>\n",
              "      <td>2013.000000</td>\n",
              "    </tr>\n",
              "    <tr>\n",
              "      <th>50%</th>\n",
              "      <td>6.520000</td>\n",
              "      <td>12.760000</td>\n",
              "      <td>47.100000</td>\n",
              "      <td>25.400000</td>\n",
              "      <td>74.230000</td>\n",
              "      <td>43.080000</td>\n",
              "      <td>2016.000000</td>\n",
              "    </tr>\n",
              "    <tr>\n",
              "      <th>75%</th>\n",
              "      <td>9.400000</td>\n",
              "      <td>16.450000</td>\n",
              "      <td>60.060000</td>\n",
              "      <td>42.640000</td>\n",
              "      <td>83.000000</td>\n",
              "      <td>53.065000</td>\n",
              "      <td>2019.000000</td>\n",
              "    </tr>\n",
              "    <tr>\n",
              "      <th>max</th>\n",
              "      <td>56.710000</td>\n",
              "      <td>99.880000</td>\n",
              "      <td>76.470000</td>\n",
              "      <td>70.830000</td>\n",
              "      <td>94.360000</td>\n",
              "      <td>76.110000</td>\n",
              "      <td>2021.000000</td>\n",
              "    </tr>\n",
              "  </tbody>\n",
              "</table>\n",
              "</div>\n",
              "      <button class=\"colab-df-convert\" onclick=\"convertToInteractive('df-a77ced2b-2a10-4213-bc93-c8609b5b20bb')\"\n",
              "              title=\"Convert this dataframe to an interactive table.\"\n",
              "              style=\"display:none;\">\n",
              "        \n",
              "  <svg xmlns=\"http://www.w3.org/2000/svg\" height=\"24px\"viewBox=\"0 0 24 24\"\n",
              "       width=\"24px\">\n",
              "    <path d=\"M0 0h24v24H0V0z\" fill=\"none\"/>\n",
              "    <path d=\"M18.56 5.44l.94 2.06.94-2.06 2.06-.94-2.06-.94-.94-2.06-.94 2.06-2.06.94zm-11 1L8.5 8.5l.94-2.06 2.06-.94-2.06-.94L8.5 2.5l-.94 2.06-2.06.94zm10 10l.94 2.06.94-2.06 2.06-.94-2.06-.94-.94-2.06-.94 2.06-2.06.94z\"/><path d=\"M17.41 7.96l-1.37-1.37c-.4-.4-.92-.59-1.43-.59-.52 0-1.04.2-1.43.59L10.3 9.45l-7.72 7.72c-.78.78-.78 2.05 0 2.83L4 21.41c.39.39.9.59 1.41.59.51 0 1.02-.2 1.41-.59l7.78-7.78 2.81-2.81c.8-.78.8-2.07 0-2.86zM5.41 20L4 18.59l7.72-7.72 1.47 1.35L5.41 20z\"/>\n",
              "  </svg>\n",
              "      </button>\n",
              "      \n",
              "  <style>\n",
              "    .colab-df-container {\n",
              "      display:flex;\n",
              "      flex-wrap:wrap;\n",
              "      gap: 12px;\n",
              "    }\n",
              "\n",
              "    .colab-df-convert {\n",
              "      background-color: #E8F0FE;\n",
              "      border: none;\n",
              "      border-radius: 50%;\n",
              "      cursor: pointer;\n",
              "      display: none;\n",
              "      fill: #1967D2;\n",
              "      height: 32px;\n",
              "      padding: 0 0 0 0;\n",
              "      width: 32px;\n",
              "    }\n",
              "\n",
              "    .colab-df-convert:hover {\n",
              "      background-color: #E2EBFA;\n",
              "      box-shadow: 0px 1px 2px rgba(60, 64, 67, 0.3), 0px 1px 3px 1px rgba(60, 64, 67, 0.15);\n",
              "      fill: #174EA6;\n",
              "    }\n",
              "\n",
              "    [theme=dark] .colab-df-convert {\n",
              "      background-color: #3B4455;\n",
              "      fill: #D2E3FC;\n",
              "    }\n",
              "\n",
              "    [theme=dark] .colab-df-convert:hover {\n",
              "      background-color: #434B5C;\n",
              "      box-shadow: 0px 1px 3px 1px rgba(0, 0, 0, 0.15);\n",
              "      filter: drop-shadow(0px 1px 2px rgba(0, 0, 0, 0.3));\n",
              "      fill: #FFFFFF;\n",
              "    }\n",
              "  </style>\n",
              "\n",
              "      <script>\n",
              "        const buttonEl =\n",
              "          document.querySelector('#df-a77ced2b-2a10-4213-bc93-c8609b5b20bb button.colab-df-convert');\n",
              "        buttonEl.style.display =\n",
              "          google.colab.kernel.accessAllowed ? 'block' : 'none';\n",
              "\n",
              "        async function convertToInteractive(key) {\n",
              "          const element = document.querySelector('#df-a77ced2b-2a10-4213-bc93-c8609b5b20bb');\n",
              "          const dataTable =\n",
              "            await google.colab.kernel.invokeFunction('convertToInteractive',\n",
              "                                                     [key], {});\n",
              "          if (!dataTable) return;\n",
              "\n",
              "          const docLinkHtml = 'Like what you see? Visit the ' +\n",
              "            '<a target=\"_blank\" href=https://colab.research.google.com/notebooks/data_table.ipynb>data table notebook</a>'\n",
              "            + ' to learn more about interactive tables.';\n",
              "          element.innerHTML = '';\n",
              "          dataTable['output_type'] = 'display_data';\n",
              "          await google.colab.output.renderOutput(dataTable, element);\n",
              "          const docLink = document.createElement('div');\n",
              "          docLink.innerHTML = docLinkHtml;\n",
              "          element.appendChild(docLink);\n",
              "        }\n",
              "      </script>\n",
              "    </div>\n",
              "  </div>\n",
              "  "
            ]
          },
          "metadata": {},
          "execution_count": 9
        }
      ]
    },
    {
      "cell_type": "code",
      "source": [
        "df.Region"
      ],
      "metadata": {
        "colab": {
          "base_uri": "https://localhost:8080/"
        },
        "id": "7ka1UKuhnvS2",
        "outputId": "e73a7179-dac7-4572-86ee-fc7fb23b60fc"
      },
      "execution_count": 12,
      "outputs": [
        {
          "output_type": "execute_result",
          "data": {
            "text/plain": [
              "0            Vanuatu\n",
              "1              Tonga\n",
              "2        Philippinen\n",
              "3          Salomonen\n",
              "4          Guatemala\n",
              "            ...     \n",
              "1912         Grenada\n",
              "1913        Barbados\n",
              "1914    Saudi Arabia\n",
              "1915           Malta\n",
              "1916           Qatar\n",
              "Name: Region, Length: 1917, dtype: object"
            ]
          },
          "metadata": {},
          "execution_count": 12
        }
      ]
    },
    {
      "cell_type": "code",
      "source": [
        "df.iloc[100]"
      ],
      "metadata": {
        "colab": {
          "base_uri": "https://localhost:8080/"
        },
        "id": "sRri_N0soLaN",
        "outputId": "44d1cf8e-9375-4d24-c7c5-7096ae0fa556"
      },
      "execution_count": 13,
      "outputs": [
        {
          "output_type": "execute_result",
          "data": {
            "text/plain": [
              "Region                            Kuba\n",
              "WRI                               5.99\n",
              "Exposure                         15.17\n",
              "Vulnerability                    39.49\n",
              "Susceptibility                   17.98\n",
              "Lack of Coping Capabilities      69.73\n",
              " Lack of Adaptive Capacities     30.76\n",
              "Year                              2011\n",
              "Exposure Category                 High\n",
              "WRI Category                    Medium\n",
              "Vulnerability Category             Low\n",
              "Susceptibility Category            Low\n",
              "Name: 100, dtype: object"
            ]
          },
          "metadata": {},
          "execution_count": 13
        }
      ]
    },
    {
      "cell_type": "markdown",
      "source": [
        "# 2) Numpy\n",
        "* Создайте вектор (одномерный массив) размера 10, заполненный нулями\n",
        "* Создайте вектор размера 10, заполненный числом 5.8\n",
        "* Создйте массив 3x3x3 со случайными значениями\n",
        "* Создайте 8x8 матрицу и заполнить её в шахматном порядке\n",
        "* Cоздайте матрицу 4 на 4 и заполните ее произвольными числами (понадобиться в дальйнешем)"
      ],
      "metadata": {
        "id": "SNJJh4Mao00C"
      }
    },
    {
      "cell_type": "code",
      "source": [
        "import numpy as np"
      ],
      "metadata": {
        "id": "shxTKhklpNe_"
      },
      "execution_count": 14,
      "outputs": []
    },
    {
      "cell_type": "code",
      "source": [
        "x = np.zeros(10)\n",
        "x"
      ],
      "metadata": {
        "colab": {
          "base_uri": "https://localhost:8080/"
        },
        "id": "6az8yXHHpb5d",
        "outputId": "14890bec-cd4f-4c7c-fe5d-e9f312345e9c"
      },
      "execution_count": 15,
      "outputs": [
        {
          "output_type": "execute_result",
          "data": {
            "text/plain": [
              "array([0., 0., 0., 0., 0., 0., 0., 0., 0., 0.])"
            ]
          },
          "metadata": {},
          "execution_count": 15
        }
      ]
    },
    {
      "cell_type": "code",
      "source": [
        "d = np.full(10, 5.8)\n",
        "d"
      ],
      "metadata": {
        "colab": {
          "base_uri": "https://localhost:8080/"
        },
        "id": "1RzYdlPtqT3-",
        "outputId": "61e33822-b6e6-40a8-af47-3c69c79db62d"
      },
      "execution_count": 37,
      "outputs": [
        {
          "output_type": "execute_result",
          "data": {
            "text/plain": [
              "array([5.8, 5.8, 5.8, 5.8, 5.8, 5.8, 5.8, 5.8, 5.8, 5.8])"
            ]
          },
          "metadata": {},
          "execution_count": 37
        }
      ]
    },
    {
      "cell_type": "code",
      "source": [
        "z = np.random.randint(-5, 5, size=(3, 3, 3))\n",
        "z"
      ],
      "metadata": {
        "colab": {
          "base_uri": "https://localhost:8080/"
        },
        "id": "8b7i_7c9sNbg",
        "outputId": "c53c52ac-be55-4bd6-b284-2359a38d0a3e"
      },
      "execution_count": 41,
      "outputs": [
        {
          "output_type": "execute_result",
          "data": {
            "text/plain": [
              "array([[[-2, -4, -3],\n",
              "        [-3, -2,  4],\n",
              "        [-5,  3,  2]],\n",
              "\n",
              "       [[-4,  4, -3],\n",
              "        [ 4, -2, -5],\n",
              "        [-3, -4,  4]],\n",
              "\n",
              "       [[-5, -4, -3],\n",
              "        [ 1, -5, -2],\n",
              "        [ 2, -5,  4]]])"
            ]
          },
          "metadata": {},
          "execution_count": 41
        }
      ]
    },
    {
      "cell_type": "code",
      "source": [
        "x = np.ones((8, 8))\n",
        "x[::2, 1::2] =2\n",
        "x[1::2, ::2] =2\n",
        "x"
      ],
      "metadata": {
        "colab": {
          "base_uri": "https://localhost:8080/"
        },
        "id": "_X0UGkBzu32V",
        "outputId": "0e245362-82c0-4b4f-da35-c426687cf0f8"
      },
      "execution_count": 48,
      "outputs": [
        {
          "output_type": "execute_result",
          "data": {
            "text/plain": [
              "array([[1., 2., 1., 2., 1., 2., 1., 2.],\n",
              "       [2., 1., 2., 1., 2., 1., 2., 1.],\n",
              "       [1., 2., 1., 2., 1., 2., 1., 2.],\n",
              "       [2., 1., 2., 1., 2., 1., 2., 1.],\n",
              "       [1., 2., 1., 2., 1., 2., 1., 2.],\n",
              "       [2., 1., 2., 1., 2., 1., 2., 1.],\n",
              "       [1., 2., 1., 2., 1., 2., 1., 2.],\n",
              "       [2., 1., 2., 1., 2., 1., 2., 1.]])"
            ]
          },
          "metadata": {},
          "execution_count": 48
        }
      ]
    },
    {
      "cell_type": "code",
      "source": [
        "y = np.random.randn(4, 4)\n",
        "y"
      ],
      "metadata": {
        "colab": {
          "base_uri": "https://localhost:8080/"
        },
        "id": "Fb_Nvu7e4D3F",
        "outputId": "6751eea8-107d-43bc-ba65-fa2433d3cdbe"
      },
      "execution_count": 53,
      "outputs": [
        {
          "output_type": "execute_result",
          "data": {
            "text/plain": [
              "array([[ 0.57146179,  1.69196396, -1.87532273, -0.29541444],\n",
              "       [ 1.10743024,  0.19952264, -0.18237836,  2.07440646],\n",
              "       [-1.32960212, -0.54427369, -0.69938908,  0.27398372],\n",
              "       [-0.83850624,  0.51019891,  0.40146525,  0.8266952 ]])"
            ]
          },
          "metadata": {},
          "execution_count": 53
        }
      ]
    },
    {
      "cell_type": "markdown",
      "source": [
        "# 3) Scipy\n",
        "* Возьмите интеграл $\\int_{-3}^{10} sin(x)* x^{2} \\,dx $\n",
        "* Найдите определитель, обратную матрицу и собственные значения к матрице из последнего пункта раздела Numpy"
      ],
      "metadata": {
        "id": "TnDF1EO-8PnL"
      }
    },
    {
      "cell_type": "code",
      "source": [
        "from scipy import integrate # Решения интегральных и обычных дифференциальных уравнений\n",
        "from scipy import linalg # Линейная алгебра"
      ],
      "metadata": {
        "id": "J3Vc2C5A-u8j"
      },
      "execution_count": 54,
      "outputs": []
    },
    {
      "cell_type": "code",
      "source": [
        "f1 = lambda x:(np.sin(x)*(x**2))\n",
        "integrate.quad(f1, -3, 10)"
      ],
      "metadata": {
        "colab": {
          "base_uri": "https://localhost:8080/"
        },
        "id": "Cr3cXb9e_V_s",
        "outputId": "04e14505-eda9-4dba-b4a3-0904cb8fc49b"
      },
      "execution_count": 55,
      "outputs": [
        {
          "output_type": "execute_result",
          "data": {
            "text/plain": [
              "(63.57192010714263, 2.177803784883395e-12)"
            ]
          },
          "metadata": {},
          "execution_count": 55
        }
      ]
    },
    {
      "cell_type": "code",
      "source": [
        "# определитель матрицы\n",
        "linalg.det(y)"
      ],
      "metadata": {
        "colab": {
          "base_uri": "https://localhost:8080/"
        },
        "id": "TMLNQJdKApKx",
        "outputId": "7dc62584-0bab-491a-c413-cfc1c6c005c8"
      },
      "execution_count": 56,
      "outputs": [
        {
          "output_type": "execute_result",
          "data": {
            "text/plain": [
              "10.999793330295796"
            ]
          },
          "metadata": {},
          "execution_count": 56
        }
      ]
    },
    {
      "cell_type": "code",
      "source": [
        "# обратная матрица\n",
        "linalg.inv(y)"
      ],
      "metadata": {
        "colab": {
          "base_uri": "https://localhost:8080/"
        },
        "id": "QHgmIyOLBI3H",
        "outputId": "6bb21631-a5aa-43d1-fa9d-3d6b5471d754"
      },
      "execution_count": 58,
      "outputs": [
        {
          "output_type": "execute_result",
          "data": {
            "text/plain": [
              "array([[ 0.00382475,  0.21011073, -0.3082571 , -0.42369635],\n",
              "       [ 0.29495909, -0.15389491, -0.39369605,  0.62204555],\n",
              "       [-0.25759812, -0.13357216, -0.47445438,  0.40036221],\n",
              "       [-0.05305951,  0.37295578,  0.16071792,  0.20156097]])"
            ]
          },
          "metadata": {},
          "execution_count": 58
        }
      ]
    },
    {
      "cell_type": "code",
      "source": [
        "# собственные значения и собственные векторы\n",
        "linalg.eig(y)"
      ],
      "metadata": {
        "colab": {
          "base_uri": "https://localhost:8080/"
        },
        "id": "E6HpJH6ZAyh9",
        "outputId": "22d5e659-60db-4b51-b2b7-2c1289035c1f"
      },
      "execution_count": 57,
      "outputs": [
        {
          "output_type": "execute_result",
          "data": {
            "text/plain": [
              "(array([ 2.05591719+0.56383408j,  2.05591719-0.56383408j,\n",
              "        -2.00847076+0.j        , -1.20507306+0.j        ]),\n",
              " array([[-0.68193472+0.j        , -0.68193472-0.j        ,\n",
              "         -0.68857868+0.j        ,  0.15725407+0.j        ],\n",
              "        [-0.10846787-0.33505801j, -0.10846787+0.33505801j,\n",
              "          0.53514049+0.j        , -0.72717911+0.j        ],\n",
              "        [ 0.38026875-0.04476955j,  0.38026875+0.04476955j,\n",
              "         -0.426748  +0.j        , -0.56364154+0.j        ],\n",
              "        [ 0.3914883 -0.33326291j,  0.3914883 +0.33326291j,\n",
              "         -0.23952077+0.j        ,  0.35887312+0.j        ]]))"
            ]
          },
          "metadata": {},
          "execution_count": 57
        }
      ]
    },
    {
      "cell_type": "markdown",
      "source": [
        "# 4) Matplotlib/Seaborn\n",
        "\n",
        "\n",
        "* Нарисуйте график sin(x), подпишите оси, добавьте сетку\n",
        "* Нарисуйте график sin(x) и cos(x) на одном subplot'е и на разных, задайте цвета, которые вам больше нравятся"
      ],
      "metadata": {
        "id": "kQtSfLi8BTGl"
      }
    },
    {
      "cell_type": "code",
      "source": [
        "import matplotlib.pyplot as plt\n",
        "import seaborn as sns\n",
        "from scipy import constants"
      ],
      "metadata": {
        "id": "CzlxofCyBeUs"
      },
      "execution_count": 60,
      "outputs": []
    },
    {
      "cell_type": "code",
      "source": [
        "lag = 0.1\n",
        "x = np.arange(-1.5, 1.5*np.pi, lag)\n",
        "y = np.sin(x)\n",
        "\n",
        "fig = plt.figure()\n",
        "plt.plot(x, y)\n",
        "plt.grid()\n",
        "\n",
        "plt.title('График sin(x)')\n",
        "plt.ylabel('Ось Y')\n",
        "plt.xlabel('Ось X')"
      ],
      "metadata": {
        "colab": {
          "base_uri": "https://localhost:8080/",
          "height": 312
        },
        "id": "RoIq2hjKBlz1",
        "outputId": "7e25006b-7e37-486f-bf52-37a6653c8284"
      },
      "execution_count": 69,
      "outputs": [
        {
          "output_type": "execute_result",
          "data": {
            "text/plain": [
              "Text(0.5, 0, 'Ось X')"
            ]
          },
          "metadata": {},
          "execution_count": 69
        },
        {
          "output_type": "display_data",
          "data": {
            "text/plain": [
              "<Figure size 432x288 with 1 Axes>"
            ],
            "image/png": "[encoded data removed]"
          },
          "metadata": {
            "needs_background": "light"
          }
        }
      ]
    },
    {
      "cell_type": "code",
      "source": [
        "lag = 0.1\n",
        "x = np.arange(-1.5, 1.5*np.pi, lag)\n",
        "y1 = np.sin(x)\n",
        "y2 = np.cos(x)\n",
        "plt.grid()\n",
        "plt.plot(x, y1, 'r', x, y2, 'b');"
      ],
      "metadata": {
        "colab": {
          "base_uri": "https://localhost:8080/",
          "height": 265
        },
        "id": "rbcqDgm6DY0J",
        "outputId": "52ccd204-5f12-402a-98b2-d36baf757986"
      },
      "execution_count": 71,
      "outputs": [
        {
          "output_type": "display_data",
          "data": {
            "text/plain": [
              "<Figure size 432x288 with 1 Axes>"
            ],
            "image/png": "[encoded data removed]"
          },
          "metadata": {
            "needs_background": "light"
          }
        }
      ]
    },
    {
      "cell_type": "code",
      "source": [
        "plt.figure(figsize=(20, 5))\n",
        "lag = 0.1\n",
        "x = np.arange(-1.5, 1.5*np.pi, lag)\n",
        "y1 = np.sin(x)\n",
        "y2 = np.cos(x)\n",
        "\n",
        "plt.subplot(1, 3, 1)\n",
        "plt.grid()\n",
        "plt.plot(x, y1, 'r', x, y2, 'g');\n",
        "\n",
        "plt.subplot(1, 3, 2)\n",
        "plt.plot(x, y1, 'r')\n",
        "plt.grid()\n",
        "\n",
        "plt.subplot(1, 3, 3)\n",
        "plt.plot(x, y2, 'g')\n",
        "plt.grid()\n",
        "\n"
      ],
      "metadata": {
        "colab": {
          "base_uri": "https://localhost:8080/",
          "height": 320
        },
        "id": "lElLLQsrEeZb",
        "outputId": "c799f004-24f1-400d-9644-0012074b4d53"
      },
      "execution_count": 86,
      "outputs": [
        {
          "output_type": "display_data",
          "data": {
            "text/plain": [
              "<Figure size 1440x360 with 3 Axes>"
            ],
            "image/png": "[encoded data removed]"
          },
          "metadata": {
            "needs_background": "light"
          }
        }
      ]
    }
  ]
}